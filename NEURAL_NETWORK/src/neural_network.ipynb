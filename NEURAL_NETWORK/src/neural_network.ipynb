{
 "cells": [
  {
   "cell_type": "code",
   "execution_count": 3,
   "metadata": {},
   "outputs": [],
   "source": [
    "import numpy as np\n",
    "import matplotlib.pyplot as plt\n",
    "import pandas as pandas"
   ]
  },
  {
   "attachments": {},
   "cell_type": "markdown",
   "metadata": {},
   "source": [
    "print(\"test\")"
   ]
  },
  {
   "cell_type": "code",
   "execution_count": 23,
   "metadata": {},
   "outputs": [
    {
     "name": "stdout",
     "output_type": "stream",
     "text": [
      "    Donnor Acceptor    Jsc    Voc      FF\n",
      "0     D-OF  C8-ITIC  19.30  0.870  0.6800\n",
      "1     D-2F  C8-ITIC  18.80  0.940  0.6900\n",
      "2     D-4F  C8-1TIC  14.60  1.040  0.5800\n",
      "3     D-OF     ITIC  16.50  0.890  0.5400\n",
      "4     D-2F     ITIC  16.80  0.960  0.6000\n",
      "..     ...      ...    ...    ...     ...\n",
      "195    J73   m-ITIC  16.45  0.974  0.6687\n",
      "196    J74   m-ITIC  15.89  0.990  0.6118\n",
      "197    J81     ITIC  13.96  0.940  0.6116\n",
      "198    J81   m-ITIC  14.62  0.950  0.5190\n",
      "199    PM6   DTC-4F  20.20  0.940  0.7042\n",
      "\n",
      "[200 rows x 5 columns]\n",
      "       PCE\n",
      "0    11.60\n",
      "1    12.20\n",
      "2     8.80\n",
      "3     8.00\n",
      "4     8.90\n",
      "..     ...\n",
      "195  10.71\n",
      "196   9.63\n",
      "197   8.03\n",
      "198   7.21\n",
      "199  13.37\n",
      "\n",
      "[200 rows x 1 columns]\n"
     ]
    }
   ],
   "source": [
    "var = pandas.read_excel('./../../DATASET/SOLAR_CELLS_IA_DATASET.xlsx')\n",
    "features=var[['Donnor','Acceptor','Jsc','Voc','FF']]\n",
    "target=var[['PCE']]\n",
    "print(features[61:72])\n",
    "print(target[0:200])"
   ]
  },
  {
   "cell_type": "code",
   "execution_count": null,
   "metadata": {},
   "outputs": [],
   "source": []
  }
 ],
 "metadata": {
  "kernelspec": {
   "display_name": "Python 3",
   "language": "python",
   "name": "python3"
  },
  "language_info": {
   "codemirror_mode": {
    "name": "ipython",
    "version": 3
   },
   "file_extension": ".py",
   "mimetype": "text/x-python",
   "name": "python",
   "nbconvert_exporter": "python",
   "pygments_lexer": "ipython3",
   "version": "3.10.9"
  },
  "orig_nbformat": 4,
  "vscode": {
   "interpreter": {
    "hash": "b0fa6594d8f4cbf19f97940f81e996739fb7646882a419484c72d19e05852a7e"
   }
  }
 },
 "nbformat": 4,
 "nbformat_minor": 2
}
