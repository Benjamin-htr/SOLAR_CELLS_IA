{
 "cells": [
  {
   "cell_type": "code",
   "execution_count": 1,
   "metadata": {},
   "outputs": [],
   "source": [
    "import numpy as np\n",
    "import matplotlib.pyplot as plt\n",
    "import pandas as pandas\n",
    "from sklearn.neural_network import MLPClassifier\n"
   ]
  },
  {
   "attachments": {},
   "cell_type": "markdown",
   "metadata": {},
   "source": [
    "print(\"test\")"
   ]
  },
  {
   "cell_type": "code",
   "execution_count": 4,
   "metadata": {},
   "outputs": [
    {
     "name": "stdout",
     "output_type": "stream",
     "text": [
      "       Donnor   Acceptor    Jsc    Voc      FF\n",
      "61        PM6   3TP3T-4F  20.30  0.920  0.7390\n",
      "62        PM6   3TP3T-IC  13.00  1.050  0.6500\n",
      "63     PBDB-T    DOC6-IC  19.21  0.910  0.6011\n",
      "64     PBDB-T    DOC8-IC  17.74  0.920  0.5765\n",
      "65     PBDB-T  DOC2C6-IC  18.85  0.930  0.6333\n",
      "66     PBDB-T  DOC2C6-2F  21.35  0.850  0.7315\n",
      "67  PBDBT-2CI      IT-4F  20.85  0.880  0.7718\n",
      "68  PBDBT-2CI     IT-2C1  19.85  0.910  0.7574\n",
      "69  PBDBT-2C1       ITIC  14.86  1.020  0.6376\n",
      "70  PBDBT-2CI       IT-M  14.60  1.040  0.6046\n",
      "71    PTB7-Th       ITIC  12.57  0.812  0.4830\n",
      "       PCE\n",
      "0    11.60\n",
      "1    12.20\n",
      "2     8.80\n",
      "3     8.00\n",
      "4     8.90\n",
      "..     ...\n",
      "195  10.71\n",
      "196   9.63\n",
      "197   8.03\n",
      "198   7.21\n",
      "199  13.37\n",
      "\n",
      "[200 rows x 1 columns]\n"
     ]
    }
   ],
   "source": [
    "var = pandas.read_excel('./../../DATASET/SOLAR_CELLS_IA_DATASET.xlsx')\n",
    "features=var[['Jsc','Voc','FF']]\n",
    "target=var['PCE']\n",
    "\n",
    "X = features.loc[0:200].values.tolist()\n",
    "y = target.loc[0:200].values.tolist()\n",
    "\n",
    "classification_target = []\n",
    "for pce in y :\n",
    "    if pce > 13 :\n",
    "        classification_target.append(1)\n",
    "    else :\n",
    "        classification_target.append(0)\n",
    "\n",
    "clf = MLPClassifier(solver='lbfgs', alpha=1e-5, hidden_layer_sizes=(10, 3), random_state=1)\n",
    "clf.fit(X, classification_target)"
   ]
  },
  {
   "cell_type": "code",
   "execution_count": 58,
   "metadata": {},
   "outputs": [
    {
     "data": {
      "text/plain": [
       "array([1])"
      ]
     },
     "execution_count": 58,
     "metadata": {},
     "output_type": "execute_result"
    }
   ],
   "source": [
    "clf.predict([[26.2, 0.839, 0.811 ]])\n",
    "\n"
   ]
  },
  {
   "cell_type": "code",
   "execution_count": null,
   "metadata": {},
   "outputs": [],
   "source": []
  },
  {
   "cell_type": "code",
   "execution_count": null,
   "metadata": {},
   "outputs": [],
   "source": []
  },
  {
   "cell_type": "code",
   "execution_count": null,
   "metadata": {},
   "outputs": [],
   "source": []
  }
 ],
 "metadata": {
  "kernelspec": {
   "display_name": "Python 3",
   "language": "python",
   "name": "python3"
  },
  "language_info": {
   "codemirror_mode": {
    "name": "ipython",
    "version": 3
   },
   "file_extension": ".py",
   "mimetype": "text/x-python",
   "name": "python",
   "nbconvert_exporter": "python",
   "pygments_lexer": "ipython3",
   "version": "3.9.1"
  },
  "orig_nbformat": 4,
  "vscode": {
   "interpreter": {
    "hash": "6220b472bffb35461e5151c4612858e6234b3a53d998b978c45346513a47e99d"
   }
  }
 },
 "nbformat": 4,
 "nbformat_minor": 2
}
